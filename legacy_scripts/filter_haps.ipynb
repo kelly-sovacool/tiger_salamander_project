{
 "cells": [
  {
   "cell_type": "markdown",
   "metadata": {},
   "source": [
    "# Filter curated haplotypes based on the read counts matrix\n",
    "- in each locus, drop an individual from it if there are fewer than a certain number of reads\n",
    "- drop individuals entirely if too much missing data"
   ]
  },
  {
   "cell_type": "markdown",
   "metadata": {},
   "source": [
    "## figure out which individuals to drop from loci, and which to drop completely"
   ]
  },
  {
   "cell_type": "code",
   "execution_count": 3,
   "metadata": {},
   "outputs": [
    {
     "data": {
      "text/html": [
       "<div>\n",
       "<style scoped>\n",
       "    .dataframe tbody tr th:only-of-type {\n",
       "        vertical-align: middle;\n",
       "    }\n",
       "\n",
       "    .dataframe tbody tr th {\n",
       "        vertical-align: top;\n",
       "    }\n",
       "\n",
       "    .dataframe thead th {\n",
       "        text-align: right;\n",
       "    }\n",
       "</style>\n",
       "<table border=\"1\" class=\"dataframe\">\n",
       "  <thead>\n",
       "    <tr style=\"text-align: right;\">\n",
       "      <th></th>\n",
       "      <th>1299</th>\n",
       "      <th>1319</th>\n",
       "      <th>1524</th>\n",
       "      <th>1531</th>\n",
       "      <th>1536</th>\n",
       "      <th>1541</th>\n",
       "      <th>1546</th>\n",
       "      <th>1547</th>\n",
       "      <th>1688</th>\n",
       "      <th>1779</th>\n",
       "      <th>...</th>\n",
       "      <th>482</th>\n",
       "      <th>58</th>\n",
       "      <th>59</th>\n",
       "      <th>6934</th>\n",
       "      <th>8911</th>\n",
       "      <th>DRL</th>\n",
       "      <th>OUT356</th>\n",
       "      <th>OUT366</th>\n",
       "      <th>SCW027</th>\n",
       "      <th>SCW028</th>\n",
       "    </tr>\n",
       "  </thead>\n",
       "  <tbody>\n",
       "    <tr>\n",
       "      <th>E10A7</th>\n",
       "      <td>274</td>\n",
       "      <td>244</td>\n",
       "      <td>464</td>\n",
       "      <td>6</td>\n",
       "      <td>10</td>\n",
       "      <td>5</td>\n",
       "      <td>829</td>\n",
       "      <td>1096</td>\n",
       "      <td>2</td>\n",
       "      <td>968</td>\n",
       "      <td>...</td>\n",
       "      <td>455</td>\n",
       "      <td>218</td>\n",
       "      <td>106</td>\n",
       "      <td>134</td>\n",
       "      <td>100</td>\n",
       "      <td>266</td>\n",
       "      <td>20</td>\n",
       "      <td>259</td>\n",
       "      <td>156</td>\n",
       "      <td>227</td>\n",
       "    </tr>\n",
       "    <tr>\n",
       "      <th>E10C11</th>\n",
       "      <td>598</td>\n",
       "      <td>494</td>\n",
       "      <td>1873</td>\n",
       "      <td>130</td>\n",
       "      <td>258</td>\n",
       "      <td>2393</td>\n",
       "      <td>2499</td>\n",
       "      <td>1216</td>\n",
       "      <td>1</td>\n",
       "      <td>6519</td>\n",
       "      <td>...</td>\n",
       "      <td>1415</td>\n",
       "      <td>443</td>\n",
       "      <td>254</td>\n",
       "      <td>126</td>\n",
       "      <td>32</td>\n",
       "      <td>172</td>\n",
       "      <td>34</td>\n",
       "      <td>480</td>\n",
       "      <td>306</td>\n",
       "      <td>200</td>\n",
       "    </tr>\n",
       "    <tr>\n",
       "      <th>E10C5</th>\n",
       "      <td>640</td>\n",
       "      <td>786</td>\n",
       "      <td>69</td>\n",
       "      <td>73</td>\n",
       "      <td>264</td>\n",
       "      <td>1568</td>\n",
       "      <td>1924</td>\n",
       "      <td>3110</td>\n",
       "      <td>0</td>\n",
       "      <td>6265</td>\n",
       "      <td>...</td>\n",
       "      <td>858</td>\n",
       "      <td>1367</td>\n",
       "      <td>727</td>\n",
       "      <td>39</td>\n",
       "      <td>246</td>\n",
       "      <td>326</td>\n",
       "      <td>126</td>\n",
       "      <td>805</td>\n",
       "      <td>432</td>\n",
       "      <td>792</td>\n",
       "    </tr>\n",
       "    <tr>\n",
       "      <th>E10C6</th>\n",
       "      <td>185</td>\n",
       "      <td>378</td>\n",
       "      <td>1245</td>\n",
       "      <td>88</td>\n",
       "      <td>0</td>\n",
       "      <td>480</td>\n",
       "      <td>945</td>\n",
       "      <td>1508</td>\n",
       "      <td>0</td>\n",
       "      <td>3410</td>\n",
       "      <td>...</td>\n",
       "      <td>566</td>\n",
       "      <td>443</td>\n",
       "      <td>126</td>\n",
       "      <td>136</td>\n",
       "      <td>82</td>\n",
       "      <td>24</td>\n",
       "      <td>22</td>\n",
       "      <td>170</td>\n",
       "      <td>110</td>\n",
       "      <td>153</td>\n",
       "    </tr>\n",
       "    <tr>\n",
       "      <th>E10E9</th>\n",
       "      <td>793</td>\n",
       "      <td>76</td>\n",
       "      <td>729</td>\n",
       "      <td>44</td>\n",
       "      <td>4</td>\n",
       "      <td>231</td>\n",
       "      <td>1677</td>\n",
       "      <td>2162</td>\n",
       "      <td>0</td>\n",
       "      <td>3172</td>\n",
       "      <td>...</td>\n",
       "      <td>90</td>\n",
       "      <td>99</td>\n",
       "      <td>46</td>\n",
       "      <td>149</td>\n",
       "      <td>30</td>\n",
       "      <td>128</td>\n",
       "      <td>28</td>\n",
       "      <td>220</td>\n",
       "      <td>155</td>\n",
       "      <td>92</td>\n",
       "    </tr>\n",
       "  </tbody>\n",
       "</table>\n",
       "<p>5 rows × 290 columns</p>\n",
       "</div>"
      ],
      "text/plain": [
       "        1299  1319  1524  1531  1536  1541  1546  1547  1688  1779  ...   482  \\\n",
       "E10A7    274   244   464     6    10     5   829  1096     2   968  ...   455   \n",
       "E10C11   598   494  1873   130   258  2393  2499  1216     1  6519  ...  1415   \n",
       "E10C5    640   786    69    73   264  1568  1924  3110     0  6265  ...   858   \n",
       "E10C6    185   378  1245    88     0   480   945  1508     0  3410  ...   566   \n",
       "E10E9    793    76   729    44     4   231  1677  2162     0  3172  ...    90   \n",
       "\n",
       "          58   59  6934  8911  DRL  OUT356  OUT366  SCW027  SCW028  \n",
       "E10A7    218  106   134   100  266      20     259     156     227  \n",
       "E10C11   443  254   126    32  172      34     480     306     200  \n",
       "E10C5   1367  727    39   246  326     126     805     432     792  \n",
       "E10C6    443  126   136    82   24      22     170     110     153  \n",
       "E10E9     99   46   149    30  128      28     220     155      92  \n",
       "\n",
       "[5 rows x 290 columns]"
      ]
     },
     "execution_count": 3,
     "metadata": {},
     "output_type": "execute_result"
    }
   ],
   "source": [
    "import collections\n",
    "import json\n",
    "import numpy as np\n",
    "import pandas as pd\n",
    "read_counts = pd.read_csv(\"../haplotype_pipeline/results/read_counts.csv\", index_col=0)\n",
    "read_counts.head()"
   ]
  },
  {
   "cell_type": "code",
   "execution_count": 15,
   "metadata": {},
   "outputs": [
    {
     "name": "stdout",
     "output_type": "stream",
     "text": [
      "220\n",
      "13\n",
      "207\n"
     ]
    }
   ],
   "source": [
    "read_count_threshold = 5\n",
    "loci_missing_threshold = 0.5\n",
    "num_loci = len(read_counts.index)\n",
    "read_counts_filtered = read_counts.copy()\n",
    "\n",
    "indivs_to_drop_from_loci = collections.defaultdict(list)  # indiv: set{locus1, locus2...}\n",
    "for locus in read_counts.index:\n",
    "    for indiv_id in read_counts.columns:\n",
    "        count = read_counts.at[locus, indiv_id]\n",
    "        if count < read_count_threshold:\n",
    "            indivs_to_drop_from_loci[indiv_id].append(locus)\n",
    "            read_counts_filtered.at[locus, indiv_id] = 0\n",
    "print(len(indivs_to_drop_from_loci))\n",
    "            \n",
    "indivs_to_drop_all = [indiv for indiv in indivs_to_drop_from_loci \n",
    "                      if len(indivs_to_drop_from_loci[indiv]) >= loci_missing_threshold * num_loci]\n",
    "print(len(indivs_to_drop_all))\n",
    "\n",
    "for indiv in indivs_to_drop_all :\n",
    "    indivs_to_drop_from_loci.pop(indiv)\n",
    "read_counts_filtered = read_counts.drop(list(indivs_to_drop_all), axis=1)\n",
    "print(len(indivs_to_drop_from_loci))"
   ]
  },
  {
   "cell_type": "markdown",
   "metadata": {},
   "source": [
    "## write results"
   ]
  },
  {
   "cell_type": "code",
   "execution_count": 82,
   "metadata": {},
   "outputs": [],
   "source": [
    "with open(\"snp_pipeline/results/indivs_to_drop_from_loci.json\", \"w\") as out_file:\n",
    "    json.dump(indivs_to_drop_from_loci, out_file)\n",
    "with open(\"snp_pipeline/results/indivs_to_drop_all.json\", \"w\") as out_file:\n",
    "    json.dump(indivs_to_drop_all, out_file)"
   ]
  },
  {
   "cell_type": "markdown",
   "metadata": {},
   "source": [
    "## filter curated haplotypes files based on rules set above\n",
    "\n",
    "testing with locus E10A7"
   ]
  },
  {
   "cell_type": "code",
   "execution_count": null,
   "metadata": {},
   "outputs": [],
   "source": [
    "import Bio.SeqIO\n",
    "locus = \"E10A7\"\n",
    "locus_file = Bio.SeqIO.parse(f\"snp_pipeline/haplotypes_curated/{locus}.fna\", \"fasta\")\n",
    "filtered_seqs = [seq for seq in locus_file if (seq.id.split('_')[0] not in indivs_to_drop_all) and (locus not in indivs_to_drop_from_loci[seq.id.split('_')[0]])]\n",
    "Bio.SeqIO.write(filtered_seqs, f\"snp_pipeline/haplotypes_filtered/{locus}.fna\", \"fasta\")"
   ]
  },
  {
   "cell_type": "markdown",
   "metadata": {},
   "source": [
    "## test json loading"
   ]
  },
  {
   "cell_type": "code",
   "execution_count": 89,
   "metadata": {},
   "outputs": [],
   "source": [
    "with open(\"snp_pipeline/results/indivs_to_drop_from_loci.json\", \"r\") as in_file:\n",
    "    indivs_to_drop_all = {key: set(value) for key, value in json.load(in_file).items()}\n",
    "with open(\"snp_pipeline/results/indivs_to_drop_all.json\", \"r\") as in_file:\n",
    "    indivs_to_drop_from_loci = set(json.load(in_file))"
   ]
  },
  {
   "cell_type": "code",
   "execution_count": null,
   "metadata": {},
   "outputs": [],
   "source": []
  }
 ],
 "metadata": {
  "kernelspec": {
   "display_name": "Python 3",
   "language": "python",
   "name": "python3"
  },
  "language_info": {
   "codemirror_mode": {
    "name": "ipython",
    "version": 3
   },
   "file_extension": ".py",
   "mimetype": "text/x-python",
   "name": "python",
   "nbconvert_exporter": "python",
   "pygments_lexer": "ipython3",
   "version": "3.7.3"
  }
 },
 "nbformat": 4,
 "nbformat_minor": 2
}
